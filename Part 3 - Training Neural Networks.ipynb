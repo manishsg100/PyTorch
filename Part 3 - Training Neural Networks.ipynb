{
 "cells": [
  {
   "cell_type": "markdown",
   "metadata": {},
   "source": [
    "# Training Neural Networks\n",
    "\n",
    "The network we built in the previous part isn't so smart, it doesn't know anything about our handwritten digits. Neural networks with non-linear activations work like universal function approximators. There is some function that maps our input to the output. For example, images of handwritten digits to class probabilities. The power of neural networks is that we can train them to approximate this function, and basically any function given enough data and compute time.\n",
    "\n",
    "At first the network is naive, it doesn't know the function mapping the inputs to the outputs. We train the network by showing it examples of real data, then adjusting the network parameters such that it approximates this function.\n",
    "\n",
    "To find these parameters, we need to know how poorly the network is predicting the real outputs. For this we calculate a **loss function** (also called the cost), a measure of our prediction error. For example, the mean squared loss is often used in regression and binary classification problems\n",
    "\n",
    "$$\n",
    "\\ell = \\frac{1}{2n}\\sum_i^n{\\left(y_i - \\hat{y}_i\\right)^2}\n",
    "$$\n",
    "\n",
    "where $n$ is the number of training examples, $y_i$ are the true labels, and $\\hat{y}_i$ are the predicted labels.\n",
    "\n",
    "By minimizing this loss with respect to the network parameters, we can find configurations where the loss is at a minimum and the network is able to predict the correct labels with high accuracy. We find this minimum using a process called **gradient descent**. The gradient is the slope of the loss function and points in the direction of fastest change. To get to the minimum in the least amount of time, we then want to follow the gradient (downwards). We can think of this like descending a mountain by following the steepest slope to the base."
   ]
  },
  {
   "cell_type": "markdown",
   "metadata": {},
   "source": [
    "## Backpropagation\n",
    "\n",
    "For single layer networks, gradient descent is simple to implement. However, it's more complicated for deeper, multilayer neural networks like the one we've built. Complicated enough that it took about 30 years before researchers figured out how to train multilayer networks, although it's straightforward once you learn about it. \n",
    "\n",
    "This is done through **backpropagation** which is really just an application of the chain rule from calculus.\n",
    "\n",
    "In the forward pass through the network, our data and operations go from right to left here. To train the weights with gradient descent, we propagate the gradient of the cost backwards through the network. Mathematically, this is really just calculating the gradient of the loss with respect to the weights using the chain rule.\n",
    "\n",
    "$$\n",
    "\\frac{\\partial \\ell}{\\partial w_1} = \\frac{\\partial l_1}{\\partial w_1} \\frac{\\partial s}{\\partial l_1} \\frac{\\partial l_2}{\\partial s} \\frac{\\partial \\ell}{\\partial l_2}\n",
    "$$\n",
    "\n",
    "We update our weights using this gradient with some learning rate $\\alpha$. \n",
    "\n",
    "$$\n",
    "w^\\prime = w - \\alpha \\frac{\\partial \\ell}{\\partial w}\n",
    "$$\n",
    "\n",
    "The learning rate is set such that the weight update steps are small enough that the iterative method settles in a minimum.\n",
    "\n",
    "The first thing we need to do for training is define our loss function. In PyTorch, you'll usually see this as `criterion`. Here we're using softmax output, so we want to use `criterion = nn.CrossEntropyLoss()` as our loss. Later when training, you use `loss = criterion(output, targets)` to calculate the actual loss.\n",
    "\n",
    "We also need to define the optimizer we're using, SGD or Adam, or something along those lines. Here we'll just use SGD with `torch.optim.SGD`, passing in the network parameters and the learning rate."
   ]
  },
  {
   "cell_type": "markdown",
   "metadata": {},
   "source": [
    "## Autograd\n",
    "\n",
    "Torch provides a module, `autograd`, for automatically calculating the gradient of tensors. It does this by keeping track of operations performed on tensors. To make sure PyTorch keeps track of operations on a tensor and calculates the gradients, we need to set `requires_grad` on a tensor. We can do this at creation with the `requires_grad` keyword, or at any time with `x.requires_grad_(True)`.\n",
    "\n",
    "We can turn off gradients for a block of code with the `torch.no_grad()` content:\n",
    "```python\n",
    "x = torch.zeros(1, requires_grad=True)\n",
    ">>> with torch.no_grad():\n",
    "...     y = x * 2\n",
    ">>> y.requires_grad\n",
    "False\n",
    "```\n",
    "\n",
    "Also, we can turn on or off gradients altogether with `torch.set_grad_enabled(True|False)`.\n",
    "\n",
    "The gradients are computed with respect to some variable `z` with `z.backward()`. This does a backward pass through the operations that created `z`."
   ]
  },
  {
   "cell_type": "code",
   "execution_count": 1,
   "metadata": {},
   "outputs": [],
   "source": [
    "%matplotlib inline\n",
    "%config InlineBackend.figure_format = 'retina'\n",
    "\n",
    "from collections import OrderedDict\n",
    "\n",
    "import numpy as np\n",
    "import time\n",
    "\n",
    "import torch\n",
    "from torch import nn\n",
    "from torch import optim\n",
    "import torch.nn.functional as F\n",
    "\n",
    "import helper"
   ]
  },
  {
   "cell_type": "code",
   "execution_count": 2,
   "metadata": {},
   "outputs": [
    {
     "name": "stdout",
     "output_type": "stream",
     "text": [
      "tensor([[-0.1350, -1.7792],\n",
      "        [-0.4889, -1.5319]])\n"
     ]
    }
   ],
   "source": [
    "x = torch.randn(2,2, requires_grad=True)\n",
    "print(x)"
   ]
  },
  {
   "cell_type": "code",
   "execution_count": 3,
   "metadata": {},
   "outputs": [
    {
     "name": "stdout",
     "output_type": "stream",
     "text": [
      "tensor([[ 0.0182,  3.1656],\n",
      "        [ 0.2391,  2.3467]])\n"
     ]
    }
   ],
   "source": [
    "y = x**2\n",
    "print(y)"
   ]
  },
  {
   "cell_type": "markdown",
   "metadata": {},
   "source": [
    "Below we can see the operation that created `y`, a power operation `PowBackward0`."
   ]
  },
  {
   "cell_type": "code",
   "execution_count": 4,
   "metadata": {},
   "outputs": [
    {
     "name": "stdout",
     "output_type": "stream",
     "text": [
      "<PowBackward0 object at 0x7fdbcde384a8>\n"
     ]
    }
   ],
   "source": [
    "## grad_fn shows the function that generated this variable\n",
    "print(y.grad_fn)"
   ]
  },
  {
   "cell_type": "markdown",
   "metadata": {},
   "source": [
    "The autgrad module keeps track of these operations and knows how to calculate the gradient for each one. In this way, it's able to calculate the gradients for a chain of operations, with respect to any one tensor. Let's reduce the tensor `y` to a scalar value, the mean."
   ]
  },
  {
   "cell_type": "code",
   "execution_count": 5,
   "metadata": {},
   "outputs": [
    {
     "name": "stdout",
     "output_type": "stream",
     "text": [
      "tensor(1.4424)\n"
     ]
    }
   ],
   "source": [
    "z = y.mean()\n",
    "print(z)"
   ]
  },
  {
   "cell_type": "markdown",
   "metadata": {},
   "source": [
    "We can check the gradients for `x` and `y` but they are empty currently."
   ]
  },
  {
   "cell_type": "code",
   "execution_count": 6,
   "metadata": {},
   "outputs": [
    {
     "name": "stdout",
     "output_type": "stream",
     "text": [
      "None\n"
     ]
    }
   ],
   "source": [
    "print(x.grad)"
   ]
  },
  {
   "cell_type": "markdown",
   "metadata": {},
   "source": [
    "To calculate the gradients, we need to run the `.backward` method on a Variable, `z` for example. This will calculate the gradient for `z` with respect to `x`\n",
    "\n",
    "$$\n",
    "\\frac{\\partial z}{\\partial x} = \\frac{\\partial}{\\partial x}\\left[\\frac{1}{n}\\sum_i^n x_i^2\\right] = \\frac{x}{2}\n",
    "$$"
   ]
  },
  {
   "cell_type": "code",
   "execution_count": 7,
   "metadata": {},
   "outputs": [
    {
     "name": "stdout",
     "output_type": "stream",
     "text": [
      "tensor([[-0.0675, -0.8896],\n",
      "        [-0.2445, -0.7660]])\n",
      "tensor([[-0.0675, -0.8896],\n",
      "        [-0.2445, -0.7660]])\n"
     ]
    }
   ],
   "source": [
    "z.backward()\n",
    "print(x.grad)\n",
    "print(x/2)"
   ]
  },
  {
   "cell_type": "markdown",
   "metadata": {},
   "source": [
    "These gradients calculations are particularly useful for neural networks. For training we need the gradients of the weights with respect to the cost. With PyTorch, we run data forward through the network to calculate the cost, then, go backwards to calculate the gradients with respect to the cost. Once we have the gradients we can make a gradient descent step. "
   ]
  },
  {
   "cell_type": "markdown",
   "metadata": {},
   "source": [
    "## Get the data and define the network\n",
    "\n",
    "We'll load the MNIST dataset and define our network."
   ]
  },
  {
   "cell_type": "code",
   "execution_count": 8,
   "metadata": {},
   "outputs": [
    {
     "name": "stdout",
     "output_type": "stream",
     "text": [
      "Downloading http://yann.lecun.com/exdb/mnist/train-images-idx3-ubyte.gz\n",
      "Downloading http://yann.lecun.com/exdb/mnist/train-labels-idx1-ubyte.gz\n",
      "Downloading http://yann.lecun.com/exdb/mnist/t10k-images-idx3-ubyte.gz\n",
      "Downloading http://yann.lecun.com/exdb/mnist/t10k-labels-idx1-ubyte.gz\n",
      "Processing...\n",
      "Done!\n"
     ]
    }
   ],
   "source": [
    "from torchvision import datasets, transforms\n",
    "\n",
    "# Define a transform to normalize the data\n",
    "transform = transforms.Compose([transforms.ToTensor(),\n",
    "                              transforms.Normalize((0.5, 0.5, 0.5), (0.5, 0.5, 0.5)),\n",
    "                             ])\n",
    "# Download and load the training data\n",
    "trainset = datasets.MNIST('MNIST_data/', download=True, train=True, transform=transform)\n",
    "trainloader = torch.utils.data.DataLoader(trainset, batch_size=64, shuffle=True)"
   ]
  },
  {
   "cell_type": "markdown",
   "metadata": {},
   "source": [
    "We'll build a network with `nn.Sequential` here. Only difference from the last part is we are not actually using softmax on the output, but instead just using the raw output from the last layer. This is because the output from softmax is a probability distribution. Often, the output will have values really close to zero or really close to one. Due to [inaccuracies with representing numbers as floating points](https://docs.python.org/3/tutorial/floatingpoint.html), computations with a softmax output can lose accuracy and become unstable. To get around this, we'll use the raw output, called the **logits**, to calculate the loss."
   ]
  },
  {
   "cell_type": "code",
   "execution_count": 9,
   "metadata": {},
   "outputs": [],
   "source": [
    "# Hyperparameters for our network\n",
    "input_size = 784\n",
    "hidden_sizes = [128, 64]\n",
    "output_size = 10\n",
    "\n",
    "# Build a feed-forward network\n",
    "model = nn.Sequential(OrderedDict([\n",
    "                      ('fc1', nn.Linear(input_size, hidden_sizes[0])),\n",
    "                      ('relu1', nn.ReLU()),\n",
    "                      ('fc2', nn.Linear(hidden_sizes[0], hidden_sizes[1])),\n",
    "                      ('relu2', nn.ReLU()),\n",
    "                      ('logits', nn.Linear(hidden_sizes[1], output_size))]))"
   ]
  },
  {
   "cell_type": "markdown",
   "metadata": {},
   "source": [
    "## Training the network!\n",
    "\n",
    "The first thing we need to do for training is define our loss function. In PyTorch, we'll usually see this as `criterion`. Here we're using softmax output, so we want to use `criterion = nn.CrossEntropyLoss()` as our loss. Later when training, we use `loss = criterion(output, targets)` to calculate the actual loss.\n",
    "\n",
    "We also need to define the optimizer we're using, SGD or Adam, or something along those lines. Here we'll just use SGD with `torch.optim.SGD`, passing in the network parameters and the learning rate."
   ]
  },
  {
   "cell_type": "code",
   "execution_count": 10,
   "metadata": {},
   "outputs": [],
   "source": [
    "criterion = nn.CrossEntropyLoss()\n",
    "optimizer = optim.SGD(model.parameters(), lr=0.01)"
   ]
  },
  {
   "cell_type": "markdown",
   "metadata": {},
   "source": [
    "First, let's consider just one learning step before looping through all the data. The general process with PyTorch:\n",
    "\n",
    "* Make a forward pass through the network to get the logits \n",
    "* Use the logits to calculate the loss\n",
    "* Perform a backward pass through the network with `loss.backward()` to calculate the gradients\n",
    "* Take a step with the optimizer to update the weights\n",
    "\n",
    "Below we'll go through one training step and print out the weights and gradients so you can see how it changes."
   ]
  },
  {
   "cell_type": "code",
   "execution_count": 11,
   "metadata": {},
   "outputs": [
    {
     "name": "stdout",
     "output_type": "stream",
     "text": [
      "Initial weights -  Parameter containing:\n",
      "tensor([[ 7.0399e-03, -2.5535e-02, -8.3050e-03,  ..., -4.6199e-03,\n",
      "         -3.0042e-02,  2.6735e-02],\n",
      "        [ 2.7560e-02, -2.4557e-02, -3.5584e-02,  ...,  7.0224e-03,\n",
      "          2.2178e-02, -1.2602e-02],\n",
      "        [ 2.9504e-04, -2.6209e-02, -2.0014e-02,  ...,  7.5640e-03,\n",
      "         -2.0669e-02, -1.4529e-02],\n",
      "        ...,\n",
      "        [-2.4984e-02, -2.6639e-02, -7.7125e-03,  ..., -9.5755e-03,\n",
      "         -1.9885e-02,  2.5455e-02],\n",
      "        [ 1.2739e-02,  2.8023e-03, -2.6862e-02,  ..., -2.5689e-02,\n",
      "          1.7697e-02,  1.4467e-02],\n",
      "        [-1.7663e-02,  1.2365e-02, -1.7913e-02,  ...,  2.3384e-02,\n",
      "         -2.8805e-02, -3.8211e-03]])\n",
      "Gradient - tensor(1.00000e-02 *\n",
      "       [[-0.1806, -0.1806, -0.1806,  ..., -0.1806, -0.1806, -0.1806],\n",
      "        [-0.3203, -0.3203, -0.3203,  ..., -0.3203, -0.3203, -0.3203],\n",
      "        [-0.0751, -0.0751, -0.0751,  ..., -0.0751, -0.0751, -0.0751],\n",
      "        ...,\n",
      "        [-0.1858, -0.1858, -0.1858,  ..., -0.1858, -0.1858, -0.1858],\n",
      "        [ 0.1738,  0.1738,  0.1738,  ...,  0.1738,  0.1738,  0.1738],\n",
      "        [-0.5699, -0.5699, -0.5699,  ..., -0.5699, -0.5699, -0.5699]])\n"
     ]
    }
   ],
   "source": [
    "print('Initial weights - ', model.fc1.weight)\n",
    "\n",
    "images, labels = next(iter(trainloader))\n",
    "images.resize_(64, 784)\n",
    "\n",
    "# Clear the gradients, do this because gradients are accumulated\n",
    "optimizer.zero_grad()\n",
    "\n",
    "# Forward pass, then backward pass, then update weights\n",
    "output = model.forward(images)\n",
    "loss = criterion(output, labels)\n",
    "loss.backward()\n",
    "print('Gradient -', model.fc1.weight.grad)\n",
    "optimizer.step()"
   ]
  },
  {
   "cell_type": "code",
   "execution_count": 12,
   "metadata": {},
   "outputs": [
    {
     "name": "stdout",
     "output_type": "stream",
     "text": [
      "Updated weights -  Parameter containing:\n",
      "tensor(1.00000e-02 *\n",
      "       [[ 0.7058, -2.5516, -0.8287,  ..., -0.4602, -3.0024,  2.6753],\n",
      "        [ 2.7592, -2.4525, -3.5552,  ...,  0.7054,  2.2210, -1.2570],\n",
      "        [ 0.0303, -2.6201, -2.0006,  ...,  0.7571, -2.0662, -1.4521],\n",
      "        ...,\n",
      "        [-2.4965, -2.6621, -0.7694,  ..., -0.9557, -1.9866,  2.5474],\n",
      "        [ 1.2721,  0.2785, -2.6880,  ..., -2.5706,  1.7680,  1.4450],\n",
      "        [-1.7606,  1.2422, -1.7856,  ...,  2.3441, -2.8748, -0.3764]])\n"
     ]
    }
   ],
   "source": [
    "print('Updated weights - ', model.fc1.weight)"
   ]
  },
  {
   "cell_type": "markdown",
   "metadata": {},
   "source": [
    "### Training for real\n",
    "\n",
    "Now we'll put this algorithm into a loop so we can go through all the images. This is fairly straightforward. We'll loop through the mini-batches in our dataset, pass the data through the network to calculate the losses, get the gradients, then run the optimizer."
   ]
  },
  {
   "cell_type": "code",
   "execution_count": 13,
   "metadata": {},
   "outputs": [],
   "source": [
    "optimizer = optim.SGD(model.parameters(), lr=0.003)"
   ]
  },
  {
   "cell_type": "code",
   "execution_count": 14,
   "metadata": {},
   "outputs": [
    {
     "name": "stdout",
     "output_type": "stream",
     "text": [
      "Epoch: 1/3...  Loss: 2.3031\n",
      "Epoch: 1/3...  Loss: 2.2795\n",
      "Epoch: 1/3...  Loss: 2.2594\n",
      "Epoch: 1/3...  Loss: 2.2474\n",
      "Epoch: 1/3...  Loss: 2.2241\n",
      "Epoch: 1/3...  Loss: 2.2041\n",
      "Epoch: 1/3...  Loss: 2.1815\n",
      "Epoch: 1/3...  Loss: 2.1497\n",
      "Epoch: 1/3...  Loss: 2.1260\n",
      "Epoch: 1/3...  Loss: 2.0891\n",
      "Epoch: 1/3...  Loss: 2.0490\n",
      "Epoch: 1/3...  Loss: 2.0052\n",
      "Epoch: 1/3...  Loss: 1.9652\n",
      "Epoch: 1/3...  Loss: 1.9206\n",
      "Epoch: 1/3...  Loss: 1.8646\n",
      "Epoch: 1/3...  Loss: 1.8142\n",
      "Epoch: 1/3...  Loss: 1.7361\n",
      "Epoch: 1/3...  Loss: 1.6835\n",
      "Epoch: 1/3...  Loss: 1.6172\n",
      "Epoch: 1/3...  Loss: 1.5691\n",
      "Epoch: 1/3...  Loss: 1.4744\n",
      "Epoch: 1/3...  Loss: 1.4301\n",
      "Epoch: 1/3...  Loss: 1.3437\n",
      "Epoch: 2/3...  Loss: 0.7159\n",
      "Epoch: 2/3...  Loss: 1.2648\n",
      "Epoch: 2/3...  Loss: 1.1983\n",
      "Epoch: 2/3...  Loss: 1.1496\n",
      "Epoch: 2/3...  Loss: 1.0886\n",
      "Epoch: 2/3...  Loss: 1.0601\n",
      "Epoch: 2/3...  Loss: 1.0181\n",
      "Epoch: 2/3...  Loss: 0.9760\n",
      "Epoch: 2/3...  Loss: 0.9421\n",
      "Epoch: 2/3...  Loss: 0.8963\n",
      "Epoch: 2/3...  Loss: 0.8678\n",
      "Epoch: 2/3...  Loss: 0.8570\n",
      "Epoch: 2/3...  Loss: 0.8211\n",
      "Epoch: 2/3...  Loss: 0.8203\n",
      "Epoch: 2/3...  Loss: 0.7627\n",
      "Epoch: 2/3...  Loss: 0.7441\n",
      "Epoch: 2/3...  Loss: 0.7314\n",
      "Epoch: 2/3...  Loss: 0.7371\n",
      "Epoch: 2/3...  Loss: 0.7073\n",
      "Epoch: 2/3...  Loss: 0.6666\n",
      "Epoch: 2/3...  Loss: 0.6778\n",
      "Epoch: 2/3...  Loss: 0.6734\n",
      "Epoch: 2/3...  Loss: 0.6352\n",
      "Epoch: 3/3...  Loss: 0.0682\n",
      "Epoch: 3/3...  Loss: 0.6130\n",
      "Epoch: 3/3...  Loss: 0.6272\n",
      "Epoch: 3/3...  Loss: 0.5728\n",
      "Epoch: 3/3...  Loss: 0.5867\n",
      "Epoch: 3/3...  Loss: 0.5538\n",
      "Epoch: 3/3...  Loss: 0.5811\n",
      "Epoch: 3/3...  Loss: 0.5840\n",
      "Epoch: 3/3...  Loss: 0.5526\n",
      "Epoch: 3/3...  Loss: 0.5620\n",
      "Epoch: 3/3...  Loss: 0.5541\n",
      "Epoch: 3/3...  Loss: 0.5535\n",
      "Epoch: 3/3...  Loss: 0.5750\n",
      "Epoch: 3/3...  Loss: 0.5390\n",
      "Epoch: 3/3...  Loss: 0.5346\n",
      "Epoch: 3/3...  Loss: 0.5352\n",
      "Epoch: 3/3...  Loss: 0.5312\n",
      "Epoch: 3/3...  Loss: 0.5000\n",
      "Epoch: 3/3...  Loss: 0.4939\n",
      "Epoch: 3/3...  Loss: 0.5017\n",
      "Epoch: 3/3...  Loss: 0.4921\n",
      "Epoch: 3/3...  Loss: 0.4776\n",
      "Epoch: 3/3...  Loss: 0.4721\n",
      "Epoch: 3/3...  Loss: 0.4800\n"
     ]
    }
   ],
   "source": [
    "epochs = 3\n",
    "print_every = 40\n",
    "steps = 0\n",
    "for e in range(epochs):\n",
    "    running_loss = 0\n",
    "    for images, labels in iter(trainloader):\n",
    "        steps += 1\n",
    "        # Flatten MNIST images into a 784 long vector\n",
    "        images.resize_(images.size()[0], 784)\n",
    "        \n",
    "        optimizer.zero_grad()\n",
    "        \n",
    "        # Forward and backward passes\n",
    "        output = model.forward(images)\n",
    "        loss = criterion(output, labels)\n",
    "        loss.backward()\n",
    "        optimizer.step()\n",
    "        \n",
    "        running_loss += loss.item()\n",
    "        \n",
    "        if steps % print_every == 0:\n",
    "            print(\"Epoch: {}/{}... \".format(e+1, epochs),\n",
    "                  \"Loss: {:.4f}\".format(running_loss/print_every))\n",
    "            \n",
    "            running_loss = 0"
   ]
  },
  {
   "cell_type": "markdown",
   "metadata": {},
   "source": [
    "With the network trained, we can check out it's predictions."
   ]
  },
  {
   "cell_type": "code",
   "execution_count": null,
   "metadata": {},
   "outputs": [],
   "source": [
    "images, labels = next(iter(trainloader))\n",
    "\n",
    "img = images[1].view(1, 784)\n",
    "# Turn off gradients to speed up this part\n",
    "with torch.no_grad():\n",
    "    logits = model.forward(img)\n",
    "\n",
    "# Output of the network are logits, need to take softmax for probabilities\n",
    "ps = F.softmax(logits, dim=1)\n",
    "helper.view_classify(img.view(1, 28, 28), ps)"
   ]
  },
  {
   "cell_type": "markdown",
   "metadata": {},
   "source": [
    "Now our network is brilliant. It can accurately predict the digits in our images."
   ]
  }
 ],
 "metadata": {
  "kernelspec": {
   "display_name": "Python 3",
   "language": "python",
   "name": "python3"
  },
  "language_info": {
   "codemirror_mode": {
    "name": "ipython",
    "version": 3
   },
   "file_extension": ".py",
   "mimetype": "text/x-python",
   "name": "python",
   "nbconvert_exporter": "python",
   "pygments_lexer": "ipython3",
   "version": "3.6.5"
  }
 },
 "nbformat": 4,
 "nbformat_minor": 2
}
